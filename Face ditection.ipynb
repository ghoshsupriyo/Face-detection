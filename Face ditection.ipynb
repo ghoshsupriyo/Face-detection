{
 "cells": [
  {
   "cell_type": "code",
   "execution_count": 1,
   "id": "d83424a2-bc1a-40f0-b4ca-fca4740c4993",
   "metadata": {},
   "outputs": [
    {
     "name": "stdout",
     "output_type": "stream",
     "text": [
      "Collecting opencv-python\n",
      "  Downloading opencv_python-4.10.0.84-cp37-abi3-win_amd64.whl.metadata (20 kB)\n",
      "Requirement already satisfied: numpy>=1.21.2 in c:\\users\\supriyo ghosh\\appdata\\local\\programs\\python\\python312\\lib\\site-packages (from opencv-python) (2.0.1)\n",
      "Downloading opencv_python-4.10.0.84-cp37-abi3-win_amd64.whl (38.8 MB)\n",
      "   ---------------------------------------- 0.0/38.8 MB ? eta -:--:--\n",
      "   ---------------------------------------- 0.3/38.8 MB ? eta -:--:--\n",
      "    --------------------------------------- 0.5/38.8 MB 1.9 MB/s eta 0:00:21\n",
      "   - -------------------------------------- 1.3/38.8 MB 2.7 MB/s eta 0:00:14\n",
      "   - -------------------------------------- 1.8/38.8 MB 2.9 MB/s eta 0:00:13\n",
      "   -- ------------------------------------- 2.6/38.8 MB 2.9 MB/s eta 0:00:13\n",
      "   --- ------------------------------------ 3.4/38.8 MB 3.1 MB/s eta 0:00:12\n",
      "   ---- ----------------------------------- 4.5/38.8 MB 3.3 MB/s eta 0:00:11\n",
      "   ----- ---------------------------------- 5.5/38.8 MB 3.6 MB/s eta 0:00:10\n",
      "   ------ --------------------------------- 6.6/38.8 MB 3.8 MB/s eta 0:00:09\n",
      "   ------- -------------------------------- 7.6/38.8 MB 3.9 MB/s eta 0:00:08\n",
      "   --------- ------------------------------ 8.9/38.8 MB 4.2 MB/s eta 0:00:08\n",
      "   ---------- ----------------------------- 10.2/38.8 MB 4.4 MB/s eta 0:00:07\n",
      "   ----------- ---------------------------- 11.3/38.8 MB 4.5 MB/s eta 0:00:07\n",
      "   ------------ --------------------------- 12.6/38.8 MB 4.6 MB/s eta 0:00:06\n",
      "   -------------- ------------------------- 13.9/38.8 MB 4.7 MB/s eta 0:00:06\n",
      "   --------------- ------------------------ 15.2/38.8 MB 4.7 MB/s eta 0:00:06\n",
      "   ----------------- ---------------------- 16.8/38.8 MB 4.9 MB/s eta 0:00:05\n",
      "   ------------------ --------------------- 18.1/38.8 MB 5.0 MB/s eta 0:00:05\n",
      "   ------------------- -------------------- 19.1/38.8 MB 5.0 MB/s eta 0:00:04\n",
      "   -------------------- ------------------- 19.9/38.8 MB 5.0 MB/s eta 0:00:04\n",
      "   ---------------------- ----------------- 21.5/38.8 MB 5.1 MB/s eta 0:00:04\n",
      "   ----------------------- ---------------- 22.8/38.8 MB 5.1 MB/s eta 0:00:04\n",
      "   ------------------------ --------------- 23.9/38.8 MB 5.1 MB/s eta 0:00:03\n",
      "   ------------------------- -------------- 25.2/38.8 MB 5.1 MB/s eta 0:00:03\n",
      "   --------------------------- ------------ 26.5/38.8 MB 5.2 MB/s eta 0:00:03\n",
      "   ---------------------------- ----------- 27.3/38.8 MB 5.2 MB/s eta 0:00:03\n",
      "   ---------------------------- ----------- 27.3/38.8 MB 5.2 MB/s eta 0:00:03\n",
      "   ----------------------------- ---------- 28.3/38.8 MB 4.9 MB/s eta 0:00:03\n",
      "   ------------------------------ --------- 29.4/38.8 MB 4.9 MB/s eta 0:00:02\n",
      "   ------------------------------- -------- 30.9/38.8 MB 5.0 MB/s eta 0:00:02\n",
      "   -------------------------------- ------- 32.0/38.8 MB 5.0 MB/s eta 0:00:02\n",
      "   ---------------------------------- ----- 33.6/38.8 MB 5.1 MB/s eta 0:00:02\n",
      "   ----------------------------------- ---- 34.9/38.8 MB 5.1 MB/s eta 0:00:01\n",
      "   ------------------------------------- -- 36.2/38.8 MB 5.2 MB/s eta 0:00:01\n",
      "   -------------------------------------- - 37.5/38.8 MB 5.2 MB/s eta 0:00:01\n",
      "   ---------------------------------------  38.5/38.8 MB 5.2 MB/s eta 0:00:01\n",
      "   ---------------------------------------  38.8/38.8 MB 5.2 MB/s eta 0:00:01\n",
      "   ---------------------------------------- 38.8/38.8 MB 5.0 MB/s eta 0:00:00\n",
      "Installing collected packages: opencv-python\n",
      "Successfully installed opencv-python-4.10.0.84\n",
      "Note: you may need to restart the kernel to use updated packages.\n"
     ]
    }
   ],
   "source": [
    "pip install opencv-python"
   ]
  },
  {
   "cell_type": "code",
   "execution_count": null,
   "id": "df19ad4a-3e91-420f-a3c0-a762f27164c4",
   "metadata": {},
   "outputs": [],
   "source": [
    "import cv2\n",
    "import matplotlib.pyplot as plt"
   ]
  },
  {
   "cell_type": "code",
   "execution_count": null,
   "id": "3468b3f9-60ed-4e01-9673-8ae3d14a4a26",
   "metadata": {},
   "outputs": [],
   "source": [
    "# Load the Haar Cascade classifier for face detection\n",
    "face_cascade = cv2.CascadeClassifier(cv2.data.haarcascades + 'haarcascade_frontalface_default.xml')"
   ]
  },
  {
   "cell_type": "code",
   "execution_count": null,
   "id": "93e3bd66-e6bb-427e-92f6-58b4c47a25cd",
   "metadata": {},
   "outputs": [],
   "source": [
    "# Load an image\n",
    "image_path = 'path_to_your_image.jpg'  # Replace with your image path\n",
    "image = cv2.imread(image_path)\n",
    "\n",
    "# Convert the image to grayscale\n",
    "gray_image = cv2.cvtColor(image, cv2.COLOR_BGR2GRAY)"
   ]
  },
  {
   "cell_type": "code",
   "execution_count": null,
   "id": "1c031722-9a11-43f0-8eec-229f7db7e548",
   "metadata": {},
   "outputs": [],
   "source": [
    "# Capture video from webcam\n",
    "cap = cv2.VideoCapture(0)  # 0 for the default camera\n",
    "\n",
    "while True:\n",
    "    # Read a frame from the webcam\n",
    "    ret, frame = cap.read()\n",
    "    if not ret:\n",
    "        break\n",
    "\n",
    "    # Convert the frame to grayscale\n",
    "    gray_frame = cv2.cvtColor(frame, cv2.COLOR_BGR2GRAY)\n",
    "\n",
    "    # Detect faces\n",
    "    faces = face_cascade.detectMultiScale(gray_frame, scaleFactor=1.1, minNeighbors=5)\n",
    "\n",
    "    # Draw rectangles around detected faces\n",
    "    for (x, y, w, h) in faces:\n",
    "        cv2.rectangle(frame, (x, y), (x + w, y + h), (255, 0, 0), 2)\n",
    "\n",
    "    # Display the frame with detected faces\n",
    "    cv2.imshow('Face Detection', frame)\n",
    "\n",
    "    # Break the loop on 'q' key press\n",
    "    if cv2.waitKey(1) & 0xFF == ord('q'):\n",
    "        break\n",
    "\n",
    "# Release the webcam and close windows\n",
    "cap.release()\n",
    "cv2.destroyAllWindows()"
   ]
  },
  {
   "cell_type": "code",
   "execution_count": null,
   "id": "20b9f05b-3a2f-4522-8a99-3c6f9bfc6548",
   "metadata": {},
   "outputs": [],
   "source": [
    "# Detect faces in the image\n",
    "faces = face_cascade.detectMultiScale(gray_image, scaleFactor=1.1, minNeighbors=5)\n",
    "\n",
    "# Draw rectangles around detected faces\n",
    "for (x, y, w, h) in faces:\n",
    "    cv2.rectangle(image, (x, y), (x + w, y + h), (255, 0, 0), 2)\n",
    "\n",
    "# Convert BGR to RGB for displaying with Matplotlib\n",
    "image_rgb = cv2.cvtColor(image, cv2.COLOR_BGR2RGB)\n",
    "\n",
    "# Display the image with detected faces\n",
    "plt.imshow(image_rgb)\n",
    "plt.axis('off')  # Hide axes\n",
    "plt.show()"
   ]
  },
  {
   "cell_type": "code",
   "execution_count": null,
   "id": "d1ca41b4-25fe-44a5-bbb1-94682b00ba6a",
   "metadata": {},
   "outputs": [],
   "source": [
    "import cv2\n",
    "import matplotlib.pyplot as plt\n",
    "\n",
    "# Load the Haar Cascade classifier for face detection\n",
    "face_cascade = cv2.CascadeClassifier(cv2.data.haarcascades + 'haarcascade_frontalface_default.xml')\n",
    "\n",
    "# Method 1: Load an Image\n",
    "image_path = 'path_to_your_image.jpg'  # Replace with your image path\n",
    "image = cv2.imread(image_path)\n",
    "gray_image = cv2.cvtColor(image, cv2.COLOR_BGR2GRAY)\n",
    "\n",
    "# Detect faces in the image\n",
    "faces = face_cascade.detectMultiScale(gray_image, scaleFactor=1.1, minNeighbors=5)\n",
    "\n",
    "# Draw rectangles around detected faces\n",
    "for (x, y, w, h) in faces:\n",
    "    cv2.rectangle(image, (x, y), (x + w, y + h), (255, 0, 0), 2)\n",
    "\n",
    "# Convert BGR to RGB for displaying with Matplotlib\n",
    "image_rgb = cv2.cvtColor(image, cv2.COLOR_BGR2RGB)\n",
    "\n",
    "# Display the image with detected faces\n",
    "plt.imshow(image_rgb)\n",
    "plt.axis('off')  # Hide axes\n",
    "plt.show()\n",
    "\n",
    "# Method 2: Capture Video from Webcam\n",
    "cap = cv2.VideoCapture(0)  # 0"
   ]
  },
  {
   "cell_type": "code",
   "execution_count": null,
   "id": "64cfde3f-203a-4e79-80a1-a202b6cbc6d9",
   "metadata": {},
   "outputs": [],
   "source": []
  },
  {
   "cell_type": "code",
   "execution_count": null,
   "id": "a4640744-5642-467b-bfba-f5d4727c7b3d",
   "metadata": {},
   "outputs": [],
   "source": []
  },
  {
   "cell_type": "code",
   "execution_count": null,
   "id": "027c546b-825b-4700-928c-2e87dc418ea3",
   "metadata": {},
   "outputs": [],
   "source": []
  }
 ],
 "metadata": {
  "kernelspec": {
   "display_name": "Python 3 (ipykernel)",
   "language": "python",
   "name": "python3"
  },
  "language_info": {
   "codemirror_mode": {
    "name": "ipython",
    "version": 3
   },
   "file_extension": ".py",
   "mimetype": "text/x-python",
   "name": "python",
   "nbconvert_exporter": "python",
   "pygments_lexer": "ipython3",
   "version": "3.12.2"
  }
 },
 "nbformat": 4,
 "nbformat_minor": 5
}
